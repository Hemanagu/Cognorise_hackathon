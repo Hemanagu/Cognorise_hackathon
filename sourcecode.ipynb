{
 "cells": [
  {
   "cell_type": "code",
   "execution_count": 1,
   "id": "0ca904e0-5574-4336-91a8-90a3d69f3366",
   "metadata": {},
   "outputs": [
    {
     "name": "stdout",
     "output_type": "stream",
     "text": [
      "Validation RMSE: 15.413445961914784\n",
      "Predictions saved to /mnt/data/test_predictions.csv\n"
     ]
    }
   ],
   "source": [
    "import pandas as pd\n",
    "from sklearn.model_selection import train_test_split\n",
    "from sklearn.preprocessing import StandardScaler, LabelEncoder\n",
    "from sklearn.ensemble import RandomForestRegressor\n",
    "from sklearn.metrics import mean_squared_error\n",
    "\n",
    "train_df=pd.read_csv('/home/nagu/Downloads/train.csv')\n",
    "test_df=pd.read_csv('/home/nagu/Downloads/test.csv')\n",
    "\n",
    "\n",
    "\n",
    "# Preprocessing\n",
    "def preprocess_data(df):\n",
    "    # Drop 'Roll no' as it is not a feature\n",
    "    df = df.drop('Roll no', axis=1)\n",
    "    \n",
    "    # Encode categorical variables\n",
    "    label_encoders = {}\n",
    "    for column in df.select_dtypes(include=['object']).columns:\n",
    "        le = LabelEncoder()\n",
    "        df[column] = le.fit_transform(df[column])\n",
    "        label_encoders[column] = le\n",
    "        \n",
    "    return df, label_encoders\n",
    "\n",
    "train_df, train_label_encoders = preprocess_data(train_df)\n",
    "\n",
    "def preprocess_test_data(df, label_encoders):\n",
    "    roll_no = df['Roll no']\n",
    "    df = df.drop('Roll no', axis=1)\n",
    "    for column, le in label_encoders.items():\n",
    "        df[column] = le.transform(df[column])\n",
    "    return df, roll_no\n",
    "\n",
    "test_df, roll_no_test = preprocess_test_data(test_df, train_label_encoders)\n",
    "\n",
    "# Split the training data\n",
    "X = train_df.drop('exam score', axis=1)\n",
    "y = train_df['exam score']\n",
    "\n",
    "X_train, X_val, y_train, y_val = train_test_split(X, y, test_size=0.2, random_state=42)\n",
    "\n",
    "# Standardize features\n",
    "scaler = StandardScaler()\n",
    "X_train_scaled = scaler.fit_transform(X_train)\n",
    "X_val_scaled = scaler.transform(X_val)\n",
    "test_df_scaled = scaler.transform(test_df)\n",
    "\n",
    "# Train a RandomForest regressor\n",
    "model = RandomForestRegressor(n_estimators=100, random_state=42)\n",
    "model.fit(X_train_scaled, y_train)\n",
    "\n",
    "# Validate the model\n",
    "y_val_pred = model.predict(X_val_scaled)\n",
    "val_mse = mean_squared_error(y_val, y_val_pred)\n",
    "val_rmse = val_mse ** 0.5\n",
    "\n",
    "print(f'Validation RMSE: {val_rmse}')\n",
    "\n",
    "# Predict on test data\n",
    "test_predictions = model.predict(test_df_scaled)\n",
    "\n",
    "# Convert predictions to integers\n",
    "test_predictions_int = test_predictions.round().astype(int)\n",
    "\n",
    "# Save the predictions\n",
    "test_results = pd.DataFrame({'Roll no': roll_no_test, 'Predicted exam score': test_predictions_int})\n",
    "test_results.to_csv('/home/nagu/Downloads/test_predictions.csv', index=False)\n",
    "print('Predictions saved to /mnt/data/test_predictions.csv')"
   ]
  },
  {
   "cell_type": "code",
   "execution_count": null,
   "id": "c26cff9c-287f-445b-a003-50d1eb0c1920",
   "metadata": {},
   "outputs": [],
   "source": []
  }
 ],
 "metadata": {
  "kernelspec": {
   "display_name": "Python 3 (ipykernel)",
   "language": "python",
   "name": "python3"
  },
  "language_info": {
   "codemirror_mode": {
    "name": "ipython",
    "version": 3
   },
   "file_extension": ".py",
   "mimetype": "text/x-python",
   "name": "python",
   "nbconvert_exporter": "python",
   "pygments_lexer": "ipython3",
   "version": "3.11.7"
  }
 },
 "nbformat": 4,
 "nbformat_minor": 5
}
